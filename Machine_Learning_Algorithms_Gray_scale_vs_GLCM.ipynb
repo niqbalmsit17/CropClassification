{
 "cells": [
  {
   "cell_type": "code",
   "execution_count": 1,
   "metadata": {},
   "outputs": [],
   "source": [
    "import numpy as np\n",
    "\n",
    "import matplotlib.pyplot as plt\n",
    "\n",
    "import os\n",
    "\n",
    "from sklearn.model_selection import train_test_split, GridSearchCV\n",
    "from sklearn import svm, metrics\n",
    "\n",
    "from PIL import Image\n",
    "\n",
    "from sklearn.naive_bayes import GaussianNB\n",
    "\n",
    "from sklearn.metrics import confusion_matrix\n",
    "import itertools\n",
    "\n",
    "from sklearn.ensemble import RandomForestRegressor, RandomForestClassifier\n",
    "\n",
    "from skimage.feature import greycomatrix, greycoprops\n",
    "from multiprocessing import Pool\n",
    "\n",
    "from scipy import stats\n",
    "from skimage import io\n",
    "\n",
    "from sklearn.preprocessing import OneHotEncoder\n",
    "\n",
    "import warnings\n",
    "with warnings.catch_warnings():\n",
    "    warnings.simplefilter('ignore')"
   ]
  },
  {
   "cell_type": "markdown",
   "metadata": {},
   "source": [
    "## Loading Images"
   ]
  },
  {
   "cell_type": "code",
   "execution_count": 2,
   "metadata": {},
   "outputs": [],
   "source": [
    "# Loading the images data and the respective labels data into images & labels variables\n",
    "\n",
    "def loadImages():\n",
    "    images, labels, labelNumbered = [], [], []\n",
    "\n",
    "    mIndex = 1\n",
    "    mMainDir = \"Crops\"\n",
    "\n",
    "    mCropLabels = os.listdir(mMainDir)\n",
    "    \n",
    "    for mCrop in mCropLabels:\n",
    "        if mCrop.startswith(\".\"):\n",
    "            d = 0\n",
    "            mIndex = mIndex - 1\n",
    "        else:\n",
    "            for mImage in os.listdir(mMainDir + \"/\" + mCrop):\n",
    "                if mImage.startswith(\".\"):\n",
    "                    s = 0\n",
    "                else:\n",
    "                    mImage = np.load(mMainDir + \"/\" + mCrop + \"/\" + mImage)\n",
    "                    images.append(mImage.flatten() )\n",
    "\n",
    "                    labels.append(mCrop)\n",
    "                    labelNumbered.append(mIndex)\n",
    "            #print(mCrop)\n",
    "        mIndex = mIndex + 1\n",
    "    \n",
    "    return images, labels, labelNumbered"
   ]
  },
  {
   "cell_type": "code",
   "execution_count": 3,
   "metadata": {},
   "outputs": [],
   "source": [
    "images, labels, labelNumbered = loadImages()\n",
    "\n",
    "image_data=np.array(images,dtype=\"float32\")/255.0\n",
    "mLabels=np.array(labelNumbered)"
   ]
  },
  {
   "cell_type": "code",
   "execution_count": 4,
   "metadata": {},
   "outputs": [
    {
     "data": {
      "text/plain": [
       "((144, 10000), (144,))"
      ]
     },
     "execution_count": 4,
     "metadata": {},
     "output_type": "execute_result"
    }
   ],
   "source": [
    "image_data.shape, mLabels.shape"
   ]
  },
  {
   "cell_type": "markdown",
   "metadata": {},
   "source": [
    "## Splitting data set"
   ]
  },
  {
   "cell_type": "code",
   "execution_count": 5,
   "metadata": {},
   "outputs": [
    {
     "name": "stdout",
     "output_type": "stream",
     "text": [
      "Training data:  100  Training Labels:  100\n",
      "Testing data:  44  Testing Labels:  44\n",
      "Sample size is:  (10000,)\n"
     ]
    }
   ],
   "source": [
    "# Splitting the data set into training and test data\n",
    "\n",
    "X_train, X_test, y_train, y_test  = train_test_split(images, labelNumbered, train_size=0.7,test_size=0.3, random_state=42)\n",
    "\n",
    "print(\"Training data: \", len(X_train) , \" Training Labels: \", len(y_train))\n",
    "print(\"Testing data: \", len(X_test), \" Testing Labels: \", len(y_test) )\n",
    "\n",
    "print(\"Sample size is: \", X_train[0].shape)"
   ]
  },
  {
   "cell_type": "code",
   "execution_count": 6,
   "metadata": {},
   "outputs": [],
   "source": [
    "# Function to display confusion matrix\n",
    "\n",
    "def plot_confusion_matrix(cm, classes,\n",
    "                          normalize=False,\n",
    "                          title='Confusion matrix',\n",
    "                          cmap=plt.cm.Blues):\n",
    "    \"\"\"\n",
    "    This function prints and plots the confusion matrix.\n",
    "    Normalization can be applied by setting `normalize=True`.\n",
    "    \"\"\"\n",
    "    plt.imshow(cm, interpolation='nearest', cmap=cmap)\n",
    "    plt.title(title)\n",
    "    plt.colorbar()\n",
    "    tick_marks = np.arange(len(classes))\n",
    "    plt.xticks(tick_marks, classes, rotation=45)\n",
    "    plt.yticks(tick_marks, classes)\n",
    "\n",
    "    if normalize:\n",
    "        cm = cm.astype('float') / cm.sum(axis=1)[:, np.newaxis]\n",
    "    else:\n",
    "        print('')\n",
    "\n",
    "    #print(cm)\n",
    "\n",
    "    thresh = cm.max() / 2.\n",
    "    for i, j in itertools.product(range(cm.shape[0]), range(cm.shape[1])):\n",
    "        plt.text(j, i, cm[i, j],\n",
    "                 horizontalalignment=\"center\",\n",
    "                 color=\"white\" if cm[i, j] > thresh else \"black\")\n",
    "\n",
    "    plt.tight_layout()\n",
    "    plt.ylabel('True label')\n",
    "    plt.xlabel('Predicted label')"
   ]
  },
  {
   "cell_type": "markdown",
   "metadata": {},
   "source": [
    "## Classification Alogrithms "
   ]
  },
  {
   "cell_type": "code",
   "execution_count": 7,
   "metadata": {},
   "outputs": [],
   "source": [
    "# Naive Bayes Classifier Training and computing predictions on test data\n",
    "\n",
    "def naive_bayes_classifier(X_train, y_train, X_test, y_test, type_images):\n",
    "\n",
    "    clf = GaussianNB()\n",
    "    clf.fit(X_train, y_train)\n",
    "    \n",
    "    predictions = clf.predict(X_test)\n",
    "    \n",
    "    print(\"The accuracy of the naive bayes classifier on \" + type_images +\" images is: \" + str(metrics.accuracy_score(y_test, predictions)))\n",
    "\n",
    "    print(\"\\n\\nClassification report of naive bayes classifier for {} images is - \\n{}\\n\".format(type_images,\n",
    "    metrics.classification_report(y_test, predictions, zero_division=0)))\n",
    "    \n",
    "    # Compute confusion matrix\n",
    "    cnf_matrix = confusion_matrix(y_test, predictions)\n",
    "\n",
    "    class_names = [\"Soybean\", \"Rice\", \"Wheat-T\", \"Wheat\", \"Maize\"]\n",
    "    \n",
    "    # Plot non-normalized confusion matrix\n",
    "    plt.figure()\n",
    "    plot_confusion_matrix(cnf_matrix, classes=class_names,\n",
    "                          title='Confusion matrix')\n",
    "\n",
    "    plt.show()"
   ]
  },
  {
   "cell_type": "code",
   "execution_count": 8,
   "metadata": {},
   "outputs": [],
   "source": [
    "# Random Forest Classifier\n",
    "\n",
    "def random_forest_classifier(X_train, y_train, X_test, y_test, type_images):    \n",
    "    rf = RandomForestClassifier(n_estimators = 600, max_depth=300, max_features=\"sqrt\", random_state = 0)\n",
    "\n",
    "    rf.fit(X_train, y_train)\n",
    "    \n",
    "    predictions = rf.predict(X_test)\n",
    "            \n",
    "    print(\"The accuracy of the random forest classifier on \" + type_images +\" images is: \" + str(metrics.accuracy_score(y_test, predictions)))\n",
    "\n",
    "    print(\"\\n\\nClassification report of random forest classifier for {} images is - \\n{}\\n\".format(type_images,\n",
    "    metrics.classification_report(y_test, predictions, zero_division=0)))\n",
    "    \n",
    "    # Compute confusion matrix\n",
    "    cnf_matrix = confusion_matrix(y_test, predictions)\n",
    "\n",
    "    class_names = [\"Soybean\", \"Rice\", \"Wheat-T\", \"Wheat\", \"Maize\"]\n",
    "\n",
    "    # Plot non-normalized confusion matrix\n",
    "    plt.figure()\n",
    "    plot_confusion_matrix(cnf_matrix, classes=class_names,\n",
    "                          title='Confusion matrix')\n",
    "\n",
    "    #plt.savefig(\"SVM_Confusion_Matrix.pdf\", format='pdf', bbox_inches='tight')\n",
    "\n",
    "    plt.show()\n",
    "    "
   ]
  },
  {
   "cell_type": "code",
   "execution_count": 9,
   "metadata": {},
   "outputs": [],
   "source": [
    "# Support Vector Machines\n",
    "\n",
    "def support_vector_machines(X_train, y_train, X_test, y_test, type_images):\n",
    "    \n",
    "    clf = svm.LinearSVC(max_iter=100)\n",
    "    clf.fit(X_train, y_train)\n",
    "\n",
    "    y_pred = clf.predict(X_test)\n",
    "    \n",
    "    print(\"The accuracy of the support vector machine classifier on \" + type_images +\" images is: \" + str(metrics.accuracy_score(y_test, y_pred)))\n",
    "\n",
    "    print(\"\\n\\nClassification report of support vector machine classifier for {} images is - \\n{}\\n\".format(type_images,\n",
    "    metrics.classification_report(y_test, y_pred, zero_division=0)))\n",
    "    \n",
    "    # Compute confusion matrix\n",
    "    cnf_matrix = confusion_matrix(y_test, y_pred)\n",
    "\n",
    "    class_names = [\"Soybean\", \"Rice\", \"Wheat-T\", \"Wheat\", \"Maize\"]\n",
    "\n",
    "    # Plot non-normalized confusion matrix\n",
    "    plt.figure()\n",
    "    plot_confusion_matrix(cnf_matrix, classes=class_names,\n",
    "                          title='Confusion matrix')\n",
    "    \n",
    "    plt.show()"
   ]
  },
  {
   "cell_type": "markdown",
   "metadata": {},
   "source": [
    "## Algortihms execution on gray scale images"
   ]
  },
  {
   "cell_type": "code",
   "execution_count": 10,
   "metadata": {},
   "outputs": [
    {
     "name": "stdout",
     "output_type": "stream",
     "text": [
      "The accuracy of the naive bayes classifier on gray_scale images is: 0.7954545454545454\n",
      "\n",
      "\n",
      "Classification report of naive bayes classifier for gray_scale images is - \n",
      "              precision    recall  f1-score   support\n",
      "\n",
      "           1       0.00      0.00      0.00         9\n",
      "           2       0.83      1.00      0.91         5\n",
      "           3       0.83      1.00      0.91         5\n",
      "           4       0.67      1.00      0.80        14\n",
      "           5       1.00      1.00      1.00        11\n",
      "\n",
      "    accuracy                           0.80        44\n",
      "   macro avg       0.67      0.80      0.72        44\n",
      "weighted avg       0.65      0.80      0.71        44\n",
      "\n",
      "\n",
      "\n"
     ]
    },
    {
     "data": {
      "image/png": "[encoded data removed]",
      "text/plain": [
       "<Figure size 432x288 with 2 Axes>"
      ]
     },
     "metadata": {
      "needs_background": "light"
     },
     "output_type": "display_data"
    }
   ],
   "source": [
    "naive_bayes_classifier(X_train, y_train, X_test, y_test, \"gray_scale\")"
   ]
  },
  {
   "cell_type": "code",
   "execution_count": 11,
   "metadata": {},
   "outputs": [
    {
     "name": "stdout",
     "output_type": "stream",
     "text": [
      "The accuracy of the random forest classifier on gray_scale images is: 0.8181818181818182\n",
      "\n",
      "\n",
      "Classification report of random forest classifier for gray_scale images is - \n",
      "              precision    recall  f1-score   support\n",
      "\n",
      "           1       1.00      0.11      0.20         9\n",
      "           2       1.00      1.00      1.00         5\n",
      "           3       1.00      1.00      1.00         5\n",
      "           4       0.64      1.00      0.78        14\n",
      "           5       1.00      1.00      1.00        11\n",
      "\n",
      "    accuracy                           0.82        44\n",
      "   macro avg       0.93      0.82      0.80        44\n",
      "weighted avg       0.88      0.82      0.77        44\n",
      "\n",
      "\n",
      "\n"
     ]
    },
    {
     "data": {
      "image/png": "[encoded data removed]",
      "text/plain": [
       "<Figure size 432x288 with 2 Axes>"
      ]
     },
     "metadata": {
      "needs_background": "light"
     },
     "output_type": "display_data"
    }
   ],
   "source": [
    "random_forest_classifier(X_train, y_train, X_test, y_test, \"gray_scale\")"
   ]
  },
  {
   "cell_type": "code",
   "execution_count": 12,
   "metadata": {},
   "outputs": [
    {
     "name": "stderr",
     "output_type": "stream",
     "text": [
      "/Users/naveediqbal/opt/anaconda3/lib/python3.8/site-packages/sklearn/svm/_base.py:976: ConvergenceWarning: Liblinear failed to converge, increase the number of iterations.\n",
      "  warnings.warn(\"Liblinear failed to converge, increase \"\n"
     ]
    },
    {
     "name": "stdout",
     "output_type": "stream",
     "text": [
      "The accuracy of the support vector machine classifier on gray_scale images is: 0.7045454545454546\n",
      "\n",
      "\n",
      "Classification report of support vector machine classifier for gray_scale images is - \n",
      "              precision    recall  f1-score   support\n",
      "\n",
      "           1       0.00      0.00      0.00         9\n",
      "           2       1.00      1.00      1.00         5\n",
      "           3       0.62      1.00      0.77         5\n",
      "           4       0.59      0.93      0.72        14\n",
      "           5       0.89      0.73      0.80        11\n",
      "\n",
      "    accuracy                           0.70        44\n",
      "   macro avg       0.62      0.73      0.66        44\n",
      "weighted avg       0.59      0.70      0.63        44\n",
      "\n",
      "\n",
      "\n"
     ]
    },
    {
     "data": {
      "image/png": "[encoded data removed]",
      "text/plain": [
       "<Figure size 432x288 with 2 Axes>"
      ]
     },
     "metadata": {
      "needs_background": "light"
     },
     "output_type": "display_data"
    }
   ],
   "source": [
    "support_vector_machines(X_train, y_train, X_test, y_test, \"gray_scale\")"
   ]
  },
  {
   "cell_type": "markdown",
   "metadata": {},
   "source": [
    "## Loading generated GLCM features"
   ]
  },
  {
   "cell_type": "code",
   "execution_count": 13,
   "metadata": {},
   "outputs": [
    {
     "data": {
      "text/plain": [
       "((100, 100, 100, 48), (44, 100, 100, 48))"
      ]
     },
     "execution_count": 13,
     "metadata": {},
     "output_type": "execute_result"
    }
   ],
   "source": [
    "m_xTrain = np.zeros((100, 100, 100, 48))\n",
    "\n",
    "m_xTest = np.zeros((44, 100, 100, 48))\n",
    "\n",
    "for mCount in np.arange(0, len(X_train)):\n",
    "    mainDir = \"Textures/Train\"\n",
    "    m_xTrain[mCount, :, :, :] = np.load(mainDir + '/field_texture_' + str(mCount) + '.npy')\n",
    "    \n",
    "for mCount in np.arange(0, len(X_test)):\n",
    "    mainDir = \"Textures/Test\"\n",
    "    m_xTest[mCount, :, :, :] = np.load(mainDir + '/field_texture_' + str(mCount) + '.npy')\n",
    "    \n",
    "m_xTrain.shape, m_xTest.shape"
   ]
  },
  {
   "cell_type": "code",
   "execution_count": 14,
   "metadata": {},
   "outputs": [],
   "source": [
    "train_data = []\n",
    "\n",
    "for mCount in np.arange(0, len(X_train)):\n",
    "    train_data.append(m_xTrain[mCount, :, :, :].flatten())\n",
    "    \n",
    "test_data = []\n",
    "\n",
    "for mCount in np.arange(0, len(X_test)):\n",
    "    test_data.append(m_xTest[mCount, :, :, :].flatten())"
   ]
  },
  {
   "cell_type": "markdown",
   "metadata": {},
   "source": [
    "## Algortihms execution on glcm based images"
   ]
  },
  {
   "cell_type": "code",
   "execution_count": 15,
   "metadata": {},
   "outputs": [
    {
     "name": "stdout",
     "output_type": "stream",
     "text": [
      "The accuracy of the naive bayes classifier on glcm images is: 0.9090909090909091\n",
      "\n",
      "\n",
      "Classification report of naive bayes classifier for glcm images is - \n",
      "              precision    recall  f1-score   support\n",
      "\n",
      "           1       1.00      0.56      0.71         9\n",
      "           2       0.83      1.00      0.91         5\n",
      "           3       1.00      1.00      1.00         5\n",
      "           4       0.82      1.00      0.90        14\n",
      "           5       1.00      1.00      1.00        11\n",
      "\n",
      "    accuracy                           0.91        44\n",
      "   macro avg       0.93      0.91      0.91        44\n",
      "weighted avg       0.92      0.91      0.90        44\n",
      "\n",
      "\n",
      "\n"
     ]
    },
    {
     "data": {
      "image/png": "[encoded data removed]",
      "text/plain": [
       "<Figure size 432x288 with 2 Axes>"
      ]
     },
     "metadata": {
      "needs_background": "light"
     },
     "output_type": "display_data"
    }
   ],
   "source": [
    "naive_bayes_classifier(train_data, y_train, test_data, y_test, \"glcm\")"
   ]
  },
  {
   "cell_type": "code",
   "execution_count": 16,
   "metadata": {},
   "outputs": [
    {
     "name": "stdout",
     "output_type": "stream",
     "text": [
      "The accuracy of the random forest classifier on glcm images is: 0.9090909090909091\n",
      "\n",
      "\n",
      "Classification report of random forest classifier for glcm images is - \n",
      "              precision    recall  f1-score   support\n",
      "\n",
      "           1       1.00      0.56      0.71         9\n",
      "           2       1.00      1.00      1.00         5\n",
      "           3       1.00      1.00      1.00         5\n",
      "           4       0.78      1.00      0.88        14\n",
      "           5       1.00      1.00      1.00        11\n",
      "\n",
      "    accuracy                           0.91        44\n",
      "   macro avg       0.96      0.91      0.92        44\n",
      "weighted avg       0.93      0.91      0.90        44\n",
      "\n",
      "\n",
      "\n"
     ]
    },
    {
     "data": {
      "image/png": "[encoded data removed]",
      "text/plain": [
       "<Figure size 432x288 with 2 Axes>"
      ]
     },
     "metadata": {
      "needs_background": "light"
     },
     "output_type": "display_data"
    }
   ],
   "source": [
    "random_forest_classifier(train_data, y_train, test_data, y_test, \"glcm\")"
   ]
  },
  {
   "cell_type": "code",
   "execution_count": 17,
   "metadata": {},
   "outputs": [
    {
     "name": "stderr",
     "output_type": "stream",
     "text": [
      "/Users/naveediqbal/opt/anaconda3/lib/python3.8/site-packages/sklearn/svm/_base.py:976: ConvergenceWarning: Liblinear failed to converge, increase the number of iterations.\n",
      "  warnings.warn(\"Liblinear failed to converge, increase \"\n"
     ]
    },
    {
     "name": "stdout",
     "output_type": "stream",
     "text": [
      "The accuracy of the support vector machine classifier on glcm images is: 0.8409090909090909\n",
      "\n",
      "\n",
      "Classification report of support vector machine classifier for glcm images is - \n",
      "              precision    recall  f1-score   support\n",
      "\n",
      "           1       0.86      0.67      0.75         9\n",
      "           2       0.71      1.00      0.83         5\n",
      "           3       0.83      1.00      0.91         5\n",
      "           4       0.80      0.86      0.83        14\n",
      "           5       1.00      0.82      0.90        11\n",
      "\n",
      "    accuracy                           0.84        44\n",
      "   macro avg       0.84      0.87      0.84        44\n",
      "weighted avg       0.86      0.84      0.84        44\n",
      "\n",
      "\n",
      "\n"
     ]
    },
    {
     "data": {
      "image/png": "[encoded data removed]",
      "text/plain": [
       "<Figure size 432x288 with 2 Axes>"
      ]
     },
     "metadata": {
      "needs_background": "light"
     },
     "output_type": "display_data"
    }
   ],
   "source": [
    "support_vector_machines(train_data, y_train, test_data, y_test, \"glcm\")"
   ]
  },
  {
   "cell_type": "code",
   "execution_count": null,
   "metadata": {},
   "outputs": [],
   "source": []
  }
 ],
 "metadata": {
  "kernelspec": {
   "display_name": "Python 3",
   "language": "python",
   "name": "python3"
  },
  "language_info": {
   "codemirror_mode": {
    "name": "ipython",
    "version": 3
   },
   "file_extension": ".py",
   "mimetype": "text/x-python",
   "name": "python",
   "nbconvert_exporter": "python",
   "pygments_lexer": "ipython3",
   "version": "3.8.3"
  }
 },
 "nbformat": 4,
 "nbformat_minor": 4
}
