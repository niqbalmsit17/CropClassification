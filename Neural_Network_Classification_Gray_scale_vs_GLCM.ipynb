{
 "cells": [
  {
   "cell_type": "code",
   "execution_count": 6,
   "metadata": {},
   "outputs": [],
   "source": [
    "import numpy as np\n",
    "\n",
    "import matplotlib.pyplot as plt\n",
    "\n",
    "import os\n",
    "\n",
    "from sklearn import metrics\n",
    "\n",
    "from PIL import Image\n",
    "\n",
    "from sklearn.metrics import confusion_matrix\n",
    "import itertools\n",
    "\n",
    "from scipy import stats\n",
    "from skimage import io\n",
    "\n",
    "from sklearn.preprocessing import OneHotEncoder\n",
    "\n",
    "from tensorflow.keras.models import Sequential\n",
    "from tensorflow.keras.layers import Dense, Dropout, Conv2D, MaxPool2D, Flatten, Conv3D\n",
    "\n",
    "from tensorflow.keras.losses import sparse_categorical_crossentropy\n",
    "\n",
    "from tensorflow.keras import optimizers\n",
    "\n",
    "from sklearn.model_selection import train_test_split"
   ]
  },
  {
   "cell_type": "code",
   "execution_count": 7,
   "metadata": {},
   "outputs": [],
   "source": [
    "# Loading the images data and the respective labels data into images & labels variables\n",
    "\n",
    "def loadImages():\n",
    "    images, labels, labelNumbered = [], [], []\n",
    "\n",
    "    mIndex = 1\n",
    "    mMainDir = \"Crops\"\n",
    "\n",
    "    mCropLabels = os.listdir(mMainDir)\n",
    "    \n",
    "    for mCrop in mCropLabels:\n",
    "        if mCrop.startswith(\".\"):\n",
    "            d = 0\n",
    "            mIndex = mIndex - 1\n",
    "        else:\n",
    "            for mImage in os.listdir(mMainDir + \"/\" + mCrop):\n",
    "                if mImage.startswith(\".\"):\n",
    "                    s = 0\n",
    "                else:\n",
    "                    mImage = np.load(mMainDir + \"/\" + mCrop + \"/\" + mImage)\n",
    "                    images.append(mImage.flatten() )\n",
    "\n",
    "                    labels.append(mCrop)\n",
    "                    labelNumbered.append(mIndex)\n",
    "            #print(mCrop)\n",
    "        mIndex = mIndex + 1\n",
    "    \n",
    "    return images, labels, labelNumbered"
   ]
  },
  {
   "cell_type": "code",
   "execution_count": 8,
   "metadata": {},
   "outputs": [],
   "source": [
    "images, labels, labelNumbered = loadImages()\n",
    "\n",
    "image_data=np.array(images,dtype=\"float32\")/255.0\n",
    "mLabels=np.array(labelNumbered)"
   ]
  },
  {
   "cell_type": "code",
   "execution_count": 9,
   "metadata": {},
   "outputs": [
    {
     "data": {
      "text/plain": [
       "((144, 10000), (144,))"
      ]
     },
     "execution_count": 9,
     "metadata": {},
     "output_type": "execute_result"
    }
   ],
   "source": [
    "image_data.shape, mLabels.shape"
   ]
  },
  {
   "cell_type": "code",
   "execution_count": 10,
   "metadata": {},
   "outputs": [
    {
     "name": "stdout",
     "output_type": "stream",
     "text": [
      "Training data:  100  Training Labels:  100\n",
      "Testing data:  44  Testing Labels:  44\n",
      "Sample size is:  (10000,)\n"
     ]
    }
   ],
   "source": [
    "# Splitting the data set into training and test data\n",
    "\n",
    "X_train, X_test, y_train, y_test  = train_test_split(images, labelNumbered, train_size=0.7,test_size=0.3, random_state=42)\n",
    "\n",
    "print(\"Training data: \", len(X_train) , \" Training Labels: \", len(y_train))\n",
    "print(\"Testing data: \", len(X_test), \" Testing Labels: \", len(y_test) )\n",
    "\n",
    "print(\"Sample size is: \", X_train[0].shape)"
   ]
  },
  {
   "cell_type": "code",
   "execution_count": 11,
   "metadata": {},
   "outputs": [],
   "source": [
    "# Function to display confusion matrix\n",
    "\n",
    "def plot_confusion_matrix(cm, classes,\n",
    "                          normalize=False,\n",
    "                          title='Confusion matrix',\n",
    "                          cmap=plt.cm.Blues):\n",
    "    \"\"\"\n",
    "    This function prints and plots the confusion matrix.\n",
    "    Normalization can be applied by setting `normalize=True`.\n",
    "    \"\"\"\n",
    "    plt.imshow(cm, interpolation='nearest', cmap=cmap)\n",
    "    plt.title(title)\n",
    "    plt.colorbar()\n",
    "    tick_marks = np.arange(len(classes))\n",
    "    plt.xticks(tick_marks, classes, rotation=45)\n",
    "    plt.yticks(tick_marks, classes)\n",
    "\n",
    "    if normalize:\n",
    "        cm = cm.astype('float') / cm.sum(axis=1)[:, np.newaxis]\n",
    "    else:\n",
    "        print('')\n",
    "\n",
    "    #print(cm)\n",
    "\n",
    "    thresh = cm.max() / 2.\n",
    "    for i, j in itertools.product(range(cm.shape[0]), range(cm.shape[1])):\n",
    "        plt.text(j, i, cm[i, j],\n",
    "                 horizontalalignment=\"center\",\n",
    "                 color=\"white\" if cm[i, j] > thresh else \"black\")\n",
    "\n",
    "    plt.tight_layout()\n",
    "    plt.ylabel('True label')\n",
    "    plt.xlabel('Predicted label')"
   ]
  },
  {
   "cell_type": "markdown",
   "metadata": {},
   "source": [
    "## Loading generated GLCM features"
   ]
  },
  {
   "cell_type": "code",
   "execution_count": 12,
   "metadata": {},
   "outputs": [
    {
     "data": {
      "text/plain": [
       "((100, 100, 100, 48), (44, 100, 100, 48))"
      ]
     },
     "execution_count": 12,
     "metadata": {},
     "output_type": "execute_result"
    }
   ],
   "source": [
    "m_xTrain = np.zeros((100, 100, 100, 48))\n",
    "\n",
    "m_xTest = np.zeros((44, 100, 100, 48))\n",
    "\n",
    "for mCount in np.arange(0, len(X_train)):\n",
    "    mainDir = \"Textures/Train\"\n",
    "    m_xTrain[mCount, :, :, :] = np.load(mainDir + '/field_texture_' + str(mCount) + '.npy')\n",
    "    \n",
    "for mCount in np.arange(0, len(X_test)):\n",
    "    mainDir = \"Textures/Test\"\n",
    "    m_xTest[mCount, :, :, :] = np.load(mainDir + '/field_texture_' + str(mCount) + '.npy')\n",
    "    \n",
    "m_xTrain.shape, m_xTest.shape"
   ]
  },
  {
   "cell_type": "code",
   "execution_count": 13,
   "metadata": {},
   "outputs": [],
   "source": [
    "train_data = []\n",
    "\n",
    "for mCount in np.arange(0, len(X_train)):\n",
    "    train_data.append(m_xTrain[mCount, :, :, :].flatten())\n",
    "    \n",
    "test_data = []\n",
    "\n",
    "for mCount in np.arange(0, len(X_test)):\n",
    "    test_data.append(m_xTest[mCount, :, :, :].flatten())"
   ]
  },
  {
   "cell_type": "markdown",
   "metadata": {},
   "source": [
    "## Making data ready for neural network based classification"
   ]
  },
  {
   "cell_type": "code",
   "execution_count": 14,
   "metadata": {},
   "outputs": [],
   "source": [
    "m_Training = np.zeros((len(X_train), 100, 100, 1))\n",
    "m_Testing = np.zeros((len(X_test), 100, 100, 1))\n",
    "\n",
    "for mCount in np.arange(0, len(X_train)):\n",
    "    m_Training[mCount, :, :] = X_train[mCount].reshape(100, 100, 1)\n",
    "    \n",
    "for mCount in np.arange(0, len(X_test)):\n",
    "    m_Testing[mCount, :, :] = X_test[mCount].reshape(100, 100, 1)\n",
    "    \n",
    "y_train = np.asarray(y_train)\n",
    "y_test = np.asarray(y_test)"
   ]
  },
  {
   "cell_type": "code",
   "execution_count": 15,
   "metadata": {},
   "outputs": [],
   "source": [
    "# Converting Train and Test Labels to One Hot Encoding\n",
    "\n",
    "# creating instance of one-hot-encoder\n",
    "enc = OneHotEncoder(handle_unknown='ignore')\n",
    "# passing bridge-types-cat column (label encoded values of bridge_types)\n",
    "y_mTrain = enc.fit_transform(y_train.reshape(-1,1)).toarray()\n",
    "\n",
    "y_mTest = enc.fit_transform(y_test.reshape(-1,1)).toarray()\n",
    "# merge with main df bridge_df on key values"
   ]
  },
  {
   "cell_type": "code",
   "execution_count": 16,
   "metadata": {},
   "outputs": [],
   "source": [
    "from tensorflow.keras import utils\n",
    "\n",
    "y_mTrain = utils.to_categorical(y_train)\n",
    "\n",
    "y_mTest = utils.to_categorical(y_test)"
   ]
  },
  {
   "cell_type": "code",
   "execution_count": 17,
   "metadata": {},
   "outputs": [
    {
     "data": {
      "text/plain": [
       "(100, 6)"
      ]
     },
     "execution_count": 17,
     "metadata": {},
     "output_type": "execute_result"
    }
   ],
   "source": [
    "y_mTrain.shape"
   ]
  },
  {
   "cell_type": "code",
   "execution_count": 18,
   "metadata": {},
   "outputs": [],
   "source": [
    "m_Training = m_Training.reshape(100, 100, 100)\n",
    "m_Testing = m_Testing.reshape(44, 100, 100)\n",
    "\n",
    "m_Training = m_Training / 255.0\n",
    "m_Testing = m_Testing / 255.0"
   ]
  },
  {
   "cell_type": "markdown",
   "metadata": {},
   "source": [
    "## Neural network on gray scale images"
   ]
  },
  {
   "cell_type": "code",
   "execution_count": 25,
   "metadata": {},
   "outputs": [],
   "source": [
    "# Create the model\n",
    "model = Sequential()\n",
    "\n",
    "model.add(Flatten(input_shape=(100, 100)))\n",
    "model.add(Dense(128, activation='relu'))\n",
    "model.add(Dense(64, activation='relu'))\n",
    "model.add(Dropout(0.2))\n",
    "model.add(Dense(32, activation='relu'))\n",
    "model.add(Dense(16, activation='relu'))\n",
    "model.add(Dropout(0.2))\n",
    "\n",
    "model.add(Dense(6, activation='softmax'))\n",
    "\n",
    "model.compile(loss='categorical_crossentropy', metrics=['accuracy'], optimizer=\"adam\")"
   ]
  },
  {
   "cell_type": "code",
   "execution_count": 26,
   "metadata": {},
   "outputs": [
    {
     "name": "stdout",
     "output_type": "stream",
     "text": [
      "Epoch 1/10\n",
      "13/13 [==============================] - 0s 5ms/step - loss: 2.3367 - accuracy: 0.0900\n",
      "Epoch 2/10\n",
      "13/13 [==============================] - 0s 5ms/step - loss: 1.9898 - accuracy: 0.2000\n",
      "Epoch 3/10\n",
      "13/13 [==============================] - 0s 5ms/step - loss: 1.8967 - accuracy: 0.1500\n",
      "Epoch 4/10\n",
      "13/13 [==============================] - 0s 5ms/step - loss: 1.7836 - accuracy: 0.2900\n",
      "Epoch 5/10\n",
      "13/13 [==============================] - 0s 5ms/step - loss: 1.7868 - accuracy: 0.3100\n",
      "Epoch 6/10\n",
      "13/13 [==============================] - 0s 7ms/step - loss: 1.6647 - accuracy: 0.4400\n",
      "Epoch 7/10\n",
      "13/13 [==============================] - 0s 8ms/step - loss: 1.7430 - accuracy: 0.2500\n",
      "Epoch 8/10\n",
      "13/13 [==============================] - 0s 6ms/step - loss: 1.6528 - accuracy: 0.3300\n",
      "Epoch 9/10\n",
      "13/13 [==============================] - 0s 5ms/step - loss: 1.5927 - accuracy: 0.3400\n",
      "Epoch 10/10\n",
      "13/13 [==============================] - 0s 7ms/step - loss: 1.5415 - accuracy: 0.4100\n"
     ]
    },
    {
     "data": {
      "text/plain": [
       "<tensorflow.python.keras.callbacks.History at 0x7fdee1f92af0>"
      ]
     },
     "execution_count": 26,
     "metadata": {},
     "output_type": "execute_result"
    }
   ],
   "source": [
    "model.fit(m_Training, y_mTrain, batch_size=8, epochs=10, verbose=1)"
   ]
  },
  {
   "cell_type": "code",
   "execution_count": 27,
   "metadata": {},
   "outputs": [
    {
     "name": "stdout",
     "output_type": "stream",
     "text": [
      "The accuracy of the neural network classifier on gray scale images is: 0.3181818181818182\n",
      "\n",
      "\n",
      "Classification report of neural network classifier for gray scale images is - \n",
      "              precision    recall  f1-score   support\n",
      "\n",
      "           1       0.00      0.00      0.00         9\n",
      "           2       0.00      0.00      0.00         5\n",
      "           3       0.00      0.00      0.00         5\n",
      "           4       0.36      1.00      0.53        14\n",
      "           5       0.00      0.00      0.00        11\n",
      "\n",
      "    accuracy                           0.32        44\n",
      "   macro avg       0.07      0.20      0.11        44\n",
      "weighted avg       0.11      0.32      0.17        44\n",
      "\n",
      "\n",
      "\n"
     ]
    },
    {
     "data": {
      "image/png": "[encoded data removed]",
      "text/plain": [
       "<Figure size 432x288 with 2 Axes>"
      ]
     },
     "metadata": {
      "needs_background": "light"
     },
     "output_type": "display_data"
    }
   ],
   "source": [
    "pred = model.predict(m_Testing)\n",
    "pred = np.argmax(pred, axis= 1 )\n",
    "\n",
    "print(\"The accuracy of the neural network classifier on gray scale images is: \" + str(metrics.accuracy_score(y_test, pred)))\n",
    "\n",
    "print(\"\\n\\nClassification report of neural network classifier for gray scale images is - \\n{}\\n\".format(\n",
    "    metrics.classification_report(y_test, pred, zero_division=0)))\n",
    "\n",
    "# Compute confusion matrix\n",
    "cnf_matrix = confusion_matrix(y_test, pred)\n",
    "\n",
    "class_names = [\"Soybean\", \"Rice\", \"Wheat-T\", \"Wheat\", \"Maize\"]\n",
    "\n",
    "# Plot non-normalized confusion matrix\n",
    "plt.figure()\n",
    "plot_confusion_matrix(cnf_matrix, classes=class_names,\n",
    "                      title='Confusion matrix')\n",
    "\n",
    "#plt.savefig(\"SVM_Confusion_Matrix.pdf\", format='pdf', bbox_inches='tight')\n",
    "\n",
    "plt.show()"
   ]
  },
  {
   "cell_type": "markdown",
   "metadata": {},
   "source": [
    "## Neural network on GLCM images"
   ]
  },
  {
   "cell_type": "code",
   "execution_count": 22,
   "metadata": {},
   "outputs": [],
   "source": [
    "# Create the model\n",
    "model = Sequential()\n",
    "\n",
    "model.add(Flatten(input_shape=(100, 100, 48)))\n",
    "model.add(Dense(128, activation='relu'))\n",
    "model.add(Dense(64, activation='relu'))\n",
    "model.add(Dropout(0.2))\n",
    "model.add(Dense(32, activation='relu'))\n",
    "model.add(Dense(16, activation='relu'))\n",
    "model.add(Dropout(0.2))\n",
    "model.add(Dense(10, activation='relu'))\n",
    "\n",
    "model.add(Dense(6, activation='softmax'))\n",
    "\n",
    "model.compile(loss='categorical_crossentropy', metrics=['accuracy'], optimizer='adam')"
   ]
  },
  {
   "cell_type": "code",
   "execution_count": 23,
   "metadata": {},
   "outputs": [
    {
     "name": "stdout",
     "output_type": "stream",
     "text": [
      "Epoch 1/10\n",
      "100/100 [==============================] - 29s 287ms/step - loss: 104630.6484 - accuracy: 0.2300\n",
      "Epoch 2/10\n",
      "100/100 [==============================] - 26s 259ms/step - loss: 7653.0967 - accuracy: 0.1800\n",
      "Epoch 3/10\n",
      "100/100 [==============================] - 26s 259ms/step - loss: 1761.2223 - accuracy: 0.2700\n",
      "Epoch 4/10\n",
      "100/100 [==============================] - 27s 268ms/step - loss: 726.2810 - accuracy: 0.2400\n",
      "Epoch 5/10\n",
      "100/100 [==============================] - 26s 264ms/step - loss: 1591.7944 - accuracy: 0.2800\n",
      "Epoch 6/10\n",
      "100/100 [==============================] - 27s 271ms/step - loss: 366.8038 - accuracy: 0.2600\n",
      "Epoch 7/10\n",
      "100/100 [==============================] - 28s 283ms/step - loss: 801.0952 - accuracy: 0.2700\n",
      "Epoch 8/10\n",
      "100/100 [==============================] - 28s 285ms/step - loss: 25.7333 - accuracy: 0.3000\n",
      "Epoch 9/10\n",
      "100/100 [==============================] - 27s 267ms/step - loss: 1780.0387 - accuracy: 0.2800\n",
      "Epoch 10/10\n",
      "100/100 [==============================] - 26s 256ms/step - loss: 233.5597 - accuracy: 0.2900\n"
     ]
    },
    {
     "data": {
      "text/plain": [
       "<tensorflow.python.keras.callbacks.History at 0x7fdf4395f070>"
      ]
     },
     "execution_count": 23,
     "metadata": {},
     "output_type": "execute_result"
    }
   ],
   "source": [
    "model.fit(m_xTrain, y_mTrain, batch_size=1, epochs=10, verbose=1)"
   ]
  },
  {
   "cell_type": "code",
   "execution_count": 24,
   "metadata": {},
   "outputs": [
    {
     "name": "stdout",
     "output_type": "stream",
     "text": [
      "The accuracy of the neural network classifier on glcm images is: 0.25\n",
      "\n",
      "\n",
      "Classification report of neural network classifier on glcm images is - \n",
      "              precision    recall  f1-score   support\n",
      "\n",
      "           1       0.00      0.00      0.00         9\n",
      "           2       0.00      0.00      0.00         5\n",
      "           3       0.00      0.00      0.00         5\n",
      "           4       0.00      0.00      0.00        14\n",
      "           5       0.25      1.00      0.40        11\n",
      "\n",
      "    accuracy                           0.25        44\n",
      "   macro avg       0.05      0.20      0.08        44\n",
      "weighted avg       0.06      0.25      0.10        44\n",
      "\n",
      "\n",
      "\n"
     ]
    },
    {
     "data": {
      "image/png": "[encoded data removed]",
      "text/plain": [
       "<Figure size 432x288 with 2 Axes>"
      ]
     },
     "metadata": {
      "needs_background": "light"
     },
     "output_type": "display_data"
    }
   ],
   "source": [
    "pred = model.predict(m_xTest)\n",
    "pred = np.argmax(pred, axis= 1 )\n",
    "\n",
    "print(\"The accuracy of the neural network classifier on glcm images is: \" + str(metrics.accuracy_score(y_test, pred)))\n",
    "\n",
    "print(\"\\n\\nClassification report of neural network classifier on glcm images is - \\n{}\\n\".format(\n",
    "    metrics.classification_report(y_test, pred, zero_division=0)))\n",
    "\n",
    "# Compute confusion matrix\n",
    "cnf_matrix = confusion_matrix(y_test, pred)\n",
    "\n",
    "class_names = [\"Soybean\", \"Rice\", \"Wheat-T\", \"Wheat\", \"Maize\"]\n",
    "\n",
    "# Plot non-normalized confusion matrix\n",
    "plt.figure()\n",
    "plot_confusion_matrix(cnf_matrix, classes=class_names,\n",
    "                      title='Confusion matrix')\n",
    "\n",
    "#plt.savefig(\"SVM_Confusion_Matrix.pdf\", format='pdf', bbox_inches='tight')\n",
    "\n",
    "plt.show()"
   ]
  },
  {
   "cell_type": "code",
   "execution_count": null,
   "metadata": {},
   "outputs": [],
   "source": []
  }
 ],
 "metadata": {
  "kernelspec": {
   "display_name": "Python 3",
   "language": "python",
   "name": "python3"
  },
  "language_info": {
   "codemirror_mode": {
    "name": "ipython",
    "version": 3
   },
   "file_extension": ".py",
   "mimetype": "text/x-python",
   "name": "python",
   "nbconvert_exporter": "python",
   "pygments_lexer": "ipython3",
   "version": "3.8.3"
  }
 },
 "nbformat": 4,
 "nbformat_minor": 4
}
